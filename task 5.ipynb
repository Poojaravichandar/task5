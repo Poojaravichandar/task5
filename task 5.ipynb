{
 "cells": [
  {
   "cell_type": "code",
   "execution_count": 1,
   "metadata": {},
   "outputs": [
    {
     "name": "stdout",
     "output_type": "stream",
     "text": [
      "[10, 501, 22, 37, 100, 999, 87, 351]\n"
     ]
    }
   ],
   "source": [
    "data = [10, 501, 22, 37, 100, 999, 87, 351]\n",
    "result = filter (lambda x: x > 4, data)\n",
    "print (list (result))"
   ]
  },
  {
   "cell_type": "code",
   "execution_count": 2,
   "metadata": {},
   "outputs": [
    {
     "name": "stdout",
     "output_type": "stream",
     "text": [
      "Every element in the list is an integer or a string.\n"
     ]
    }
   ],
   "source": [
    "data = [10, 'hello', 5, 'world', 7]\n",
    "\n",
    "result = all(map(lambda x: isinstance(x, int) or isinstance(x, str), data))\n",
    "\n",
    "if result:\n",
    "    print(\"Every element in the list is an integer or a string.\")\n",
    "else:\n",
    "    print(\"There are elements in the list that are not integers or strings.\")"
   ]
  },
  {
   "cell_type": "code",
   "execution_count": 3,
   "metadata": {},
   "outputs": [
    {
     "name": "stdout",
     "output_type": "stream",
     "text": [
      "[0, 1, 1, 2, 3, 5, 8, 13, 21, 34, 55, 89, 144, 233, 377, 610, 987, 1597, 2584, 4181, 6765, 10946, 17711, 28657, 46368, 75025, 121393, 196418, 317811, 514229, 832040, 1346269, 2178309, 3524578, 5702887, 9227465, 14930352, 24157817, 39088169, 63245986, 102334155, 165580141, 267914296, 433494437, 701408733, 1134903170, 1836311903, 2971215073, 4807526976, 7778742049]\n"
     ]
    }
   ],
   "source": [
    "from functools import reduce\n",
    "\n",
    "# Define Fibonacci lambda function\n",
    "fib = lambda n: reduce(lambda x, _: x+[x[-1]+x[-2]], range(n-2), [0, 1])\n",
    "\n",
    "# Generate Fibonacci series up to 50 elements\n",
    "fib_series = fib(50)\n",
    "\n",
    "# Print the Fibonacci series\n",
    "print(fib_series)"
   ]
  },
  {
   "cell_type": "code",
   "execution_count": 4,
   "metadata": {},
   "outputs": [
    {
     "name": "stdout",
     "output_type": "stream",
     "text": [
      "Email validation result: True\n",
      "Bangladeshi Mobile Number validation result: True\n",
      "USA Telephone Number validation result: True\n",
      "Password validation result: False\n"
     ]
    }
   ],
   "source": [
    "import re\n",
    "\n",
    "def validate_email(email):\n",
    "    pattern = r'^[a-zA-Z0-9._%+-]+@[a-zA-Z0-9.-]+\\.[a-zA-Z]{2,}$'\n",
    "    return bool(re.match(pattern, email))\n",
    "\n",
    "def validate_bangladeshi_mobile_number(number):\n",
    "    pattern = r'^01[3-9]\\d{8}$'\n",
    "    return bool(re.match(pattern, number))\n",
    "\n",
    "def validate_usa_telephone_number(number):\n",
    "    pattern = r'^\\+1-\\d{3}-\\d{3}-\\d{4}$'\n",
    "    return bool(re.match(pattern, number))\n",
    "\n",
    "def validate_password(password):\n",
    "    pattern = r'^(?=.*[a-z])(?=.*[A-Z])(?=.*\\d)(?=.*[@$!%*?&])[A-Za-z\\d@$!%*?&]{16}$'\n",
    "    return bool(re.match(pattern, password))\n",
    "\n",
    "# Testing the functions\n",
    "email = \"example@example.com\"\n",
    "print(\"Email validation result:\", validate_email(email))\n",
    "\n",
    "mobile_number = \"01712345678\"\n",
    "print(\"Bangladeshi Mobile Number validation result:\", validate_bangladeshi_mobile_number(mobile_number))\n",
    "\n",
    "telephone_number = \"+1-123-456-7890\"\n",
    "print(\"USA Telephone Number validation result:\", validate_usa_telephone_number(telephone_number))\n",
    "\n",
    "password = \"Abcd@1234Efgh!5678\"\n",
    "print(\"Password validation result:\", validate_password(password))"
   ]
  },
  {
   "cell_type": "code",
   "execution_count": null,
   "metadata": {},
   "outputs": [],
   "source": []
  }
 ],
 "metadata": {
  "kernelspec": {
   "display_name": "Python 3",
   "language": "python",
   "name": "python3"
  },
  "language_info": {
   "codemirror_mode": {
    "name": "ipython",
    "version": 3
   },
   "file_extension": ".py",
   "mimetype": "text/x-python",
   "name": "python",
   "nbconvert_exporter": "python",
   "pygments_lexer": "ipython3",
   "version": "3.12.2"
  }
 },
 "nbformat": 4,
 "nbformat_minor": 2
}
